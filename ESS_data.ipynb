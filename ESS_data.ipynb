{
 "cells": [
  {
   "cell_type": "markdown",
   "metadata": {},
   "source": [
    "## How to import .sav file (survey data example)\n",
    "- Some easy tricks to import and analyze .sav file in Jupyter\n"
   ]
  },
  {
   "cell_type": "code",
   "execution_count": 2,
   "metadata": {},
   "outputs": [
    {
     "name": "stdout",
     "output_type": "stream",
     "text": [
      "Requirement already satisfied: pyreadstat in e:\\programy\\anaconda\\lib\\site-packages (0.2.9)\n"
     ]
    }
   ],
   "source": [
    "import pandas as pd\n",
    "## Installig pyreadstat with pip\n",
    "\n",
    "import sys\n",
    "!{sys.executable} -m pip install pyreadstat\n",
    "\n",
    "import pyreadstat\n",
    "\n",
    "import numpy as np\n",
    "\n",
    "import matplotlib.pyplot as plt"
   ]
  },
  {
   "cell_type": "markdown",
   "metadata": {},
   "source": [
    "### ESS 8 PL round of social survey data will be used"
   ]
  },
  {
   "cell_type": "code",
   "execution_count": 3,
   "metadata": {},
   "outputs": [
    {
     "data": {
      "text/html": [
       "<div>\n",
       "<style scoped>\n",
       "    .dataframe tbody tr th:only-of-type {\n",
       "        vertical-align: middle;\n",
       "    }\n",
       "\n",
       "    .dataframe tbody tr th {\n",
       "        vertical-align: top;\n",
       "    }\n",
       "\n",
       "    .dataframe thead th {\n",
       "        text-align: right;\n",
       "    }\n",
       "</style>\n",
       "<table border=\"1\" class=\"dataframe\">\n",
       "  <thead>\n",
       "    <tr style=\"text-align: right;\">\n",
       "      <th></th>\n",
       "      <th>name</th>\n",
       "      <th>essround</th>\n",
       "      <th>edition</th>\n",
       "      <th>proddate</th>\n",
       "      <th>idno</th>\n",
       "      <th>cntry</th>\n",
       "      <th>nwspol</th>\n",
       "      <th>netusoft</th>\n",
       "      <th>netustm</th>\n",
       "      <th>ppltrst</th>\n",
       "      <th>...</th>\n",
       "      <th>inwsmm</th>\n",
       "      <th>inwdde</th>\n",
       "      <th>inwmme</th>\n",
       "      <th>inwyye</th>\n",
       "      <th>inwehh</th>\n",
       "      <th>inwemm</th>\n",
       "      <th>inwtm</th>\n",
       "      <th>dweight</th>\n",
       "      <th>pspwght</th>\n",
       "      <th>pweight</th>\n",
       "    </tr>\n",
       "  </thead>\n",
       "  <tbody>\n",
       "    <tr>\n",
       "      <td>0</td>\n",
       "      <td>ESS8e02_1</td>\n",
       "      <td>8.0</td>\n",
       "      <td>2.1</td>\n",
       "      <td>01.12.2018</td>\n",
       "      <td>1002.0</td>\n",
       "      <td>Poland</td>\n",
       "      <td>10.0</td>\n",
       "      <td>A few times a week</td>\n",
       "      <td>NaN</td>\n",
       "      <td>3</td>\n",
       "      <td>...</td>\n",
       "      <td>30.0</td>\n",
       "      <td>29.0</td>\n",
       "      <td>11.0</td>\n",
       "      <td>2016.0</td>\n",
       "      <td>15.0</td>\n",
       "      <td>41.0</td>\n",
       "      <td>71.0</td>\n",
       "      <td>1.013005</td>\n",
       "      <td>1.052506</td>\n",
       "      <td>1.904271</td>\n",
       "    </tr>\n",
       "    <tr>\n",
       "      <td>1</td>\n",
       "      <td>ESS8e02_1</td>\n",
       "      <td>8.0</td>\n",
       "      <td>2.1</td>\n",
       "      <td>01.12.2018</td>\n",
       "      <td>1004.0</td>\n",
       "      <td>Poland</td>\n",
       "      <td>190.0</td>\n",
       "      <td>Every day</td>\n",
       "      <td>70.0</td>\n",
       "      <td>5</td>\n",
       "      <td>...</td>\n",
       "      <td>45.0</td>\n",
       "      <td>19.0</td>\n",
       "      <td>11.0</td>\n",
       "      <td>2016.0</td>\n",
       "      <td>12.0</td>\n",
       "      <td>20.0</td>\n",
       "      <td>95.0</td>\n",
       "      <td>0.994646</td>\n",
       "      <td>0.862430</td>\n",
       "      <td>1.904271</td>\n",
       "    </tr>\n",
       "    <tr>\n",
       "      <td>2</td>\n",
       "      <td>ESS8e02_1</td>\n",
       "      <td>8.0</td>\n",
       "      <td>2.1</td>\n",
       "      <td>01.12.2018</td>\n",
       "      <td>1005.0</td>\n",
       "      <td>Poland</td>\n",
       "      <td>150.0</td>\n",
       "      <td>Every day</td>\n",
       "      <td>60.0</td>\n",
       "      <td>5</td>\n",
       "      <td>...</td>\n",
       "      <td>20.0</td>\n",
       "      <td>3.0</td>\n",
       "      <td>12.0</td>\n",
       "      <td>2016.0</td>\n",
       "      <td>17.0</td>\n",
       "      <td>36.0</td>\n",
       "      <td>76.0</td>\n",
       "      <td>0.931871</td>\n",
       "      <td>1.178867</td>\n",
       "      <td>1.904271</td>\n",
       "    </tr>\n",
       "    <tr>\n",
       "      <td>3</td>\n",
       "      <td>ESS8e02_1</td>\n",
       "      <td>8.0</td>\n",
       "      <td>2.1</td>\n",
       "      <td>01.12.2018</td>\n",
       "      <td>1013.0</td>\n",
       "      <td>Poland</td>\n",
       "      <td>30.0</td>\n",
       "      <td>Never</td>\n",
       "      <td>NaN</td>\n",
       "      <td>5</td>\n",
       "      <td>...</td>\n",
       "      <td>20.0</td>\n",
       "      <td>24.0</td>\n",
       "      <td>11.0</td>\n",
       "      <td>2016.0</td>\n",
       "      <td>13.0</td>\n",
       "      <td>12.0</td>\n",
       "      <td>112.0</td>\n",
       "      <td>1.020648</td>\n",
       "      <td>1.102796</td>\n",
       "      <td>1.904271</td>\n",
       "    </tr>\n",
       "    <tr>\n",
       "      <td>4</td>\n",
       "      <td>ESS8e02_1</td>\n",
       "      <td>8.0</td>\n",
       "      <td>2.1</td>\n",
       "      <td>01.12.2018</td>\n",
       "      <td>1014.0</td>\n",
       "      <td>Poland</td>\n",
       "      <td>140.0</td>\n",
       "      <td>Never</td>\n",
       "      <td>NaN</td>\n",
       "      <td>3</td>\n",
       "      <td>...</td>\n",
       "      <td>0.0</td>\n",
       "      <td>20.0</td>\n",
       "      <td>11.0</td>\n",
       "      <td>2016.0</td>\n",
       "      <td>14.0</td>\n",
       "      <td>26.0</td>\n",
       "      <td>86.0</td>\n",
       "      <td>0.993519</td>\n",
       "      <td>0.825017</td>\n",
       "      <td>1.904271</td>\n",
       "    </tr>\n",
       "  </tbody>\n",
       "</table>\n",
       "<p>5 rows × 534 columns</p>\n",
       "</div>"
      ],
      "text/plain": [
       "        name  essround edition    proddate    idno   cntry nwspol  \\\n",
       "0  ESS8e02_1       8.0     2.1  01.12.2018  1002.0  Poland   10.0   \n",
       "1  ESS8e02_1       8.0     2.1  01.12.2018  1004.0  Poland  190.0   \n",
       "2  ESS8e02_1       8.0     2.1  01.12.2018  1005.0  Poland  150.0   \n",
       "3  ESS8e02_1       8.0     2.1  01.12.2018  1013.0  Poland   30.0   \n",
       "4  ESS8e02_1       8.0     2.1  01.12.2018  1014.0  Poland  140.0   \n",
       "\n",
       "             netusoft netustm ppltrst  ... inwsmm inwdde inwmme  inwyye  \\\n",
       "0  A few times a week     NaN       3  ...   30.0   29.0   11.0  2016.0   \n",
       "1           Every day    70.0       5  ...   45.0   19.0   11.0  2016.0   \n",
       "2           Every day    60.0       5  ...   20.0    3.0   12.0  2016.0   \n",
       "3               Never     NaN       5  ...   20.0   24.0   11.0  2016.0   \n",
       "4               Never     NaN       3  ...    0.0   20.0   11.0  2016.0   \n",
       "\n",
       "  inwehh inwemm  inwtm   dweight   pspwght   pweight  \n",
       "0   15.0   41.0   71.0  1.013005  1.052506  1.904271  \n",
       "1   12.0   20.0   95.0  0.994646  0.862430  1.904271  \n",
       "2   17.0   36.0   76.0  0.931871  1.178867  1.904271  \n",
       "3   13.0   12.0  112.0  1.020648  1.102796  1.904271  \n",
       "4   14.0   26.0   86.0  0.993519  0.825017  1.904271  \n",
       "\n",
       "[5 rows x 534 columns]"
      ]
     },
     "execution_count": 3,
     "metadata": {},
     "output_type": "execute_result"
    }
   ],
   "source": [
    "## With lables\n",
    "\n",
    "data = pd.read_spss('E:\\IT\\Data Science\\Jupyter\\ESS8PL.sav')\n",
    "data.head()\n"
   ]
  },
  {
   "cell_type": "code",
   "execution_count": 4,
   "metadata": {},
   "outputs": [
    {
     "data": {
      "text/plain": [
       "pandas.core.frame.DataFrame"
      ]
     },
     "execution_count": 4,
     "metadata": {},
     "output_type": "execute_result"
    }
   ],
   "source": [
    "## Labels as value (strasznie to jest zwalone data1, meta...)\n",
    "\n",
    "data1, meta = pyreadstat.read_sav('E:\\IT\\Data Science\\Jupyter\\ESS8PL.sav')\n",
    "type(data1)\n",
    "\n"
   ]
  },
  {
   "cell_type": "code",
   "execution_count": 5,
   "metadata": {},
   "outputs": [
    {
     "data": {
      "image/png": "[encoded data removed]",
      "text/plain": [
       "<Figure size 432x288 with 1 Axes>"
      ]
     },
     "metadata": {
      "needs_background": "light"
     },
     "output_type": "display_data"
    }
   ],
   "source": [
    "int_use = data1.netusoft\n",
    "int_use.head()\n",
    "\n",
    "int_use.hist()\n",
    "plt.show()"
   ]
  },
  {
   "cell_type": "code",
   "execution_count": 6,
   "metadata": {},
   "outputs": [
    {
     "data": {
      "text/plain": [
       "0    41.0\n",
       "1    20.0\n",
       "2    36.0\n",
       "3    12.0\n",
       "4    26.0\n",
       "Name: inwemm, dtype: float64"
      ]
     },
     "execution_count": 6,
     "metadata": {},
     "output_type": "execute_result"
    }
   ],
   "source": [
    "# Column print\n",
    "data1['inwemm'].head()\n",
    "\n",
    "# Column print\n",
    "data1.inwemm.head()"
   ]
  },
  {
   "cell_type": "code",
   "execution_count": 7,
   "metadata": {},
   "outputs": [
    {
     "data": {
      "text/plain": [
       "<matplotlib.axes._subplots.AxesSubplot at 0x1ab1e8bca88>"
      ]
     },
     "execution_count": 7,
     "metadata": {},
     "output_type": "execute_result"
    },
    {
     "data": {
      "image/png": "[encoded data removed]",
      "text/plain": [
       "<Figure size 432x288 with 1 Axes>"
      ]
     },
     "metadata": {
      "needs_background": "light"
     },
     "output_type": "display_data"
    }
   ],
   "source": [
    "data1.inwdde.hist()"
   ]
  },
  {
   "cell_type": "code",
   "execution_count": 8,
   "metadata": {},
   "outputs": [
    {
     "data": {
      "text/plain": [
       "<matplotlib.axes._subplots.AxesSubplot at 0x1ab1d8e5688>"
      ]
     },
     "execution_count": 8,
     "metadata": {},
     "output_type": "execute_result"
    },
    {
     "data": {
      "image/png": "[encoded data removed]",
      "text/plain": [
       "<Figure size 432x288 with 1 Axes>"
      ]
     },
     "metadata": {
      "needs_background": "light"
     },
     "output_type": "display_data"
    }
   ],
   "source": [
    "data1.health.hist()"
   ]
  },
  {
   "cell_type": "markdown",
   "metadata": {},
   "source": [
    "## Simple regression model"
   ]
  },
  {
   "cell_type": "markdown",
   "metadata": {},
   "source": [
    "The fundamental data type of NumPy is the array type called numpy.ndarray."
   ]
  },
  {
   "cell_type": "code",
   "execution_count": 17,
   "metadata": {},
   "outputs": [
    {
     "data": {
      "text/html": [
       "<div>\n",
       "<style scoped>\n",
       "    .dataframe tbody tr th:only-of-type {\n",
       "        vertical-align: middle;\n",
       "    }\n",
       "\n",
       "    .dataframe tbody tr th {\n",
       "        vertical-align: top;\n",
       "    }\n",
       "\n",
       "    .dataframe thead th {\n",
       "        text-align: right;\n",
       "    }\n",
       "</style>\n",
       "<table border=\"1\" class=\"dataframe\">\n",
       "  <thead>\n",
       "    <tr style=\"text-align: right;\">\n",
       "      <th></th>\n",
       "      <th>count</th>\n",
       "      <th>mean</th>\n",
       "      <th>std</th>\n",
       "      <th>min</th>\n",
       "      <th>25%</th>\n",
       "      <th>50%</th>\n",
       "      <th>75%</th>\n",
       "      <th>max</th>\n",
       "    </tr>\n",
       "  </thead>\n",
       "  <tbody>\n",
       "    <tr>\n",
       "      <td>essround</td>\n",
       "      <td>1694.0</td>\n",
       "      <td>8.000000</td>\n",
       "      <td>0.000000</td>\n",
       "      <td>8.0</td>\n",
       "      <td>8.0</td>\n",
       "      <td>8.0</td>\n",
       "      <td>8.0</td>\n",
       "      <td>8.0</td>\n",
       "    </tr>\n",
       "    <tr>\n",
       "      <td>idno</td>\n",
       "      <td>1694.0</td>\n",
       "      <td>5115.835301</td>\n",
       "      <td>2321.187311</td>\n",
       "      <td>1002.0</td>\n",
       "      <td>3106.5</td>\n",
       "      <td>5119.0</td>\n",
       "      <td>7168.5</td>\n",
       "      <td>8998.0</td>\n",
       "    </tr>\n",
       "    <tr>\n",
       "      <td>nwspol</td>\n",
       "      <td>1674.0</td>\n",
       "      <td>75.509558</td>\n",
       "      <td>74.166669</td>\n",
       "      <td>0.0</td>\n",
       "      <td>30.0</td>\n",
       "      <td>60.0</td>\n",
       "      <td>120.0</td>\n",
       "      <td>900.0</td>\n",
       "    </tr>\n",
       "    <tr>\n",
       "      <td>netusoft</td>\n",
       "      <td>1691.0</td>\n",
       "      <td>3.356002</td>\n",
       "      <td>1.751362</td>\n",
       "      <td>1.0</td>\n",
       "      <td>1.0</td>\n",
       "      <td>4.0</td>\n",
       "      <td>5.0</td>\n",
       "      <td>5.0</td>\n",
       "    </tr>\n",
       "    <tr>\n",
       "      <td>netustm</td>\n",
       "      <td>897.0</td>\n",
       "      <td>177.653289</td>\n",
       "      <td>148.434860</td>\n",
       "      <td>10.0</td>\n",
       "      <td>60.0</td>\n",
       "      <td>120.0</td>\n",
       "      <td>240.0</td>\n",
       "      <td>960.0</td>\n",
       "    </tr>\n",
       "  </tbody>\n",
       "</table>\n",
       "</div>"
      ],
      "text/plain": [
       "           count         mean          std     min     25%     50%     75%  \\\n",
       "essround  1694.0     8.000000     0.000000     8.0     8.0     8.0     8.0   \n",
       "idno      1694.0  5115.835301  2321.187311  1002.0  3106.5  5119.0  7168.5   \n",
       "nwspol    1674.0    75.509558    74.166669     0.0    30.0    60.0   120.0   \n",
       "netusoft  1691.0     3.356002     1.751362     1.0     1.0     4.0     5.0   \n",
       "netustm    897.0   177.653289   148.434860    10.0    60.0   120.0   240.0   \n",
       "\n",
       "             max  \n",
       "essround     8.0  \n",
       "idno      8998.0  \n",
       "nwspol     900.0  \n",
       "netusoft     5.0  \n",
       "netustm    960.0  "
      ]
     },
     "execution_count": 17,
     "metadata": {},
     "output_type": "execute_result"
    }
   ],
   "source": [
    "data1.describe().T.head() ## data1.describe().T - useful descriptive stats"
   ]
  },
  {
   "cell_type": "code",
   "execution_count": 20,
   "metadata": {},
   "outputs": [
    {
     "data": {
      "text/html": [
       "<div>\n",
       "<style scoped>\n",
       "    .dataframe tbody tr th:only-of-type {\n",
       "        vertical-align: middle;\n",
       "    }\n",
       "\n",
       "    .dataframe tbody tr th {\n",
       "        vertical-align: top;\n",
       "    }\n",
       "\n",
       "    .dataframe thead th {\n",
       "        text-align: right;\n",
       "    }\n",
       "</style>\n",
       "<table border=\"1\" class=\"dataframe\">\n",
       "  <thead>\n",
       "    <tr style=\"text-align: right;\">\n",
       "      <th></th>\n",
       "      <th>netusoft</th>\n",
       "      <th>netustm</th>\n",
       "      <th>health</th>\n",
       "      <th>agea</th>\n",
       "    </tr>\n",
       "  </thead>\n",
       "  <tbody>\n",
       "    <tr>\n",
       "      <td>0</td>\n",
       "      <td>3.0</td>\n",
       "      <td>NaN</td>\n",
       "      <td>3.0</td>\n",
       "      <td>35.0</td>\n",
       "    </tr>\n",
       "    <tr>\n",
       "      <td>1</td>\n",
       "      <td>5.0</td>\n",
       "      <td>70.0</td>\n",
       "      <td>4.0</td>\n",
       "      <td>56.0</td>\n",
       "    </tr>\n",
       "    <tr>\n",
       "      <td>2</td>\n",
       "      <td>5.0</td>\n",
       "      <td>60.0</td>\n",
       "      <td>2.0</td>\n",
       "      <td>52.0</td>\n",
       "    </tr>\n",
       "    <tr>\n",
       "      <td>3</td>\n",
       "      <td>1.0</td>\n",
       "      <td>NaN</td>\n",
       "      <td>3.0</td>\n",
       "      <td>80.0</td>\n",
       "    </tr>\n",
       "    <tr>\n",
       "      <td>4</td>\n",
       "      <td>1.0</td>\n",
       "      <td>NaN</td>\n",
       "      <td>2.0</td>\n",
       "      <td>78.0</td>\n",
       "    </tr>\n",
       "    <tr>\n",
       "      <td>...</td>\n",
       "      <td>...</td>\n",
       "      <td>...</td>\n",
       "      <td>...</td>\n",
       "      <td>...</td>\n",
       "    </tr>\n",
       "    <tr>\n",
       "      <td>1689</td>\n",
       "      <td>5.0</td>\n",
       "      <td>480.0</td>\n",
       "      <td>3.0</td>\n",
       "      <td>17.0</td>\n",
       "    </tr>\n",
       "    <tr>\n",
       "      <td>1690</td>\n",
       "      <td>3.0</td>\n",
       "      <td>NaN</td>\n",
       "      <td>3.0</td>\n",
       "      <td>59.0</td>\n",
       "    </tr>\n",
       "    <tr>\n",
       "      <td>1691</td>\n",
       "      <td>5.0</td>\n",
       "      <td>120.0</td>\n",
       "      <td>4.0</td>\n",
       "      <td>56.0</td>\n",
       "    </tr>\n",
       "    <tr>\n",
       "      <td>1692</td>\n",
       "      <td>5.0</td>\n",
       "      <td>210.0</td>\n",
       "      <td>2.0</td>\n",
       "      <td>24.0</td>\n",
       "    </tr>\n",
       "    <tr>\n",
       "      <td>1693</td>\n",
       "      <td>1.0</td>\n",
       "      <td>NaN</td>\n",
       "      <td>2.0</td>\n",
       "      <td>59.0</td>\n",
       "    </tr>\n",
       "  </tbody>\n",
       "</table>\n",
       "<p>1694 rows × 4 columns</p>\n",
       "</div>"
      ],
      "text/plain": [
       "      netusoft  netustm  health  agea\n",
       "0          3.0      NaN     3.0  35.0\n",
       "1          5.0     70.0     4.0  56.0\n",
       "2          5.0     60.0     2.0  52.0\n",
       "3          1.0      NaN     3.0  80.0\n",
       "4          1.0      NaN     2.0  78.0\n",
       "...        ...      ...     ...   ...\n",
       "1689       5.0    480.0     3.0  17.0\n",
       "1690       3.0      NaN     3.0  59.0\n",
       "1691       5.0    120.0     4.0  56.0\n",
       "1692       5.0    210.0     2.0  24.0\n",
       "1693       1.0      NaN     2.0  59.0\n",
       "\n",
       "[1694 rows x 4 columns]"
      ]
     },
     "execution_count": 20,
     "metadata": {},
     "output_type": "execute_result"
    }
   ],
   "source": [
    "### Subsetting some columns from big dataset\n",
    "\n",
    "cols = ['netusoft', 'netustm', 'health', 'agea']\n",
    "subset = data1[cols]\n"
   ]
  },
  {
   "cell_type": "code",
   "execution_count": null,
   "metadata": {},
   "outputs": [],
   "source": []
  },
  {
   "cell_type": "code",
   "execution_count": null,
   "metadata": {},
   "outputs": [],
   "source": [
    "print(model)"
   ]
  },
  {
   "cell_type": "code",
   "execution_count": null,
   "metadata": {},
   "outputs": [],
   "source": [
    "health = np.array(data1.health)\n",
    "print(health)\n",
    "internetuse = c(data1.netusoft)\n",
    "print(internetuse)"
   ]
  },
  {
   "cell_type": "code",
   "execution_count": null,
   "metadata": {},
   "outputs": [],
   "source": []
  },
  {
   "cell_type": "code",
   "execution_count": null,
   "metadata": {},
   "outputs": [],
   "source": []
  }
 ],
 "metadata": {
  "kernelspec": {
   "display_name": "Python 3",
   "language": "python",
   "name": "python3"
  },
  "language_info": {
   "codemirror_mode": {
    "name": "ipython",
    "version": 3
   },
   "file_extension": ".py",
   "mimetype": "text/x-python",
   "name": "python",
   "nbconvert_exporter": "python",
   "pygments_lexer": "ipython3",
   "version": "3.7.4"
  }
 },
 "nbformat": 4,
 "nbformat_minor": 2
}
